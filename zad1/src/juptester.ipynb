{
 "cells": [
  {
   "cell_type": "code",
   "execution_count": 21,
   "metadata": {},
   "outputs": [],
   "source": [
    "import numpy as np"
   ]
  },
  {
   "cell_type": "code",
   "execution_count": 130,
   "metadata": {},
   "outputs": [],
   "source": [
    "matrix = np.array([\n",
    "    [0, 1, 5, 1, 6, 8],\n",
    "    [0, 0, 4 ,5, 5, 1],\n",
    "    [0, 0, 0, 7, 1, 9],\n",
    "    [0, 0, 0, 0, 8, 1],\n",
    "    [0, 0, 0, 0, 0, 6],\n",
    "    [0, 0, 0, 0, 0, 0],\n",
    "])"
   ]
  },
  {
   "cell_type": "code",
   "execution_count": 131,
   "metadata": {},
   "outputs": [],
   "source": [
    "mat = matrix.transpose() + matrix"
   ]
  },
  {
   "cell_type": "code",
   "execution_count": 132,
   "metadata": {},
   "outputs": [
    {
     "data": {
      "text/plain": [
       "array([[0, 1, 5, 1, 6, 8],\n",
       "       [1, 0, 4, 5, 5, 1],\n",
       "       [5, 4, 0, 7, 1, 9],\n",
       "       [1, 5, 7, 0, 8, 1],\n",
       "       [6, 5, 1, 8, 0, 6],\n",
       "       [8, 1, 9, 1, 6, 0]])"
      ]
     },
     "execution_count": 132,
     "metadata": {},
     "output_type": "execute_result"
    }
   ],
   "source": [
    "mat"
   ]
  },
  {
   "cell_type": "code",
   "execution_count": 177,
   "metadata": {},
   "outputs": [],
   "source": [
    "idx = [0, 2, 4, 0]"
   ]
  },
  {
   "cell_type": "code",
   "execution_count": 178,
   "metadata": {},
   "outputs": [
    {
     "data": {
      "text/plain": [
       "array([[0, 1, 5, 1, 6, 8],\n",
       "       [5, 4, 0, 7, 1, 9],\n",
       "       [6, 5, 1, 8, 0, 6],\n",
       "       [0, 1, 5, 1, 6, 8]])"
      ]
     },
     "execution_count": 178,
     "metadata": {},
     "output_type": "execute_result"
    }
   ],
   "source": [
    "mat[idx]"
   ]
  },
  {
   "cell_type": "code",
   "execution_count": 179,
   "metadata": {},
   "outputs": [
    {
     "name": "stdout",
     "output_type": "stream",
     "text": [
      "(array([1, 3, 5]),)\n"
     ]
    }
   ],
   "source": [
    "status = [False, True, False, True, False, True]\n",
    "st2idx = np.where(status)\n",
    "print(st2idx)"
   ]
  },
  {
   "cell_type": "code",
   "execution_count": 180,
   "metadata": {},
   "outputs": [],
   "source": [
    "def count_snp_diffs(x, y): \n",
    "    return np.sum([x, y], axis=0)"
   ]
  },
  {
   "cell_type": "code",
   "execution_count": 181,
   "metadata": {},
   "outputs": [],
   "source": [
    "import itertools"
   ]
  },
  {
   "cell_type": "code",
   "execution_count": 223,
   "metadata": {},
   "outputs": [
    {
     "name": "stdout",
     "output_type": "stream",
     "text": [
      "[[0 2]\n",
      " [2 4]\n",
      " [4 0]]\n"
     ]
    }
   ],
   "source": [
    "combinations = np.array(list(itertools.combinations(range(mat.shape[1]),2)))\n",
    "\n",
    "combinations = np.array(list(map(np.array, zip(idx[:-1], idx[1:]))))\n",
    "\n",
    "print(combinations)"
   ]
  },
  {
   "cell_type": "code",
   "execution_count": 224,
   "metadata": {},
   "outputs": [
    {
     "name": "stdout",
     "output_type": "stream",
     "text": [
      "[[ 5 11  6]\n",
      " [ 5  9  6]\n",
      " [ 5  1  6]\n",
      " [ 8 15  9]\n",
      " [ 7  1  6]\n",
      " [17 15 14]]\n"
     ]
    }
   ],
   "source": [
    "dist = count_snp_diffs(mat[:,combinations[:,0]], mat[:,combinations[:,1]])\n",
    "print(dist)"
   ]
  },
  {
   "cell_type": "code",
   "execution_count": 225,
   "metadata": {},
   "outputs": [],
   "source": [
    "dist = np.sum([mat[:,combinations[:,0]], mat[:,combinations[:,1]]], axis=0)"
   ]
  },
  {
   "cell_type": "code",
   "execution_count": 226,
   "metadata": {},
   "outputs": [
    {
     "data": {
      "text/plain": [
       "(0, 0)"
      ]
     },
     "execution_count": 226,
     "metadata": {},
     "output_type": "execute_result"
    }
   ],
   "source": [
    "np.unravel_index(np.argmin(dist[st2idx], axis=None), dist.shape)"
   ]
  },
  {
   "cell_type": "code",
   "execution_count": 227,
   "metadata": {},
   "outputs": [
    {
     "data": {
      "text/plain": [
       "array([[ 5,  9,  6],\n",
       "       [ 8, 15,  9],\n",
       "       [17, 15, 14]])"
      ]
     },
     "execution_count": 227,
     "metadata": {},
     "output_type": "execute_result"
    }
   ],
   "source": [
    "dist[st2idx]"
   ]
  },
  {
   "cell_type": "code",
   "execution_count": 228,
   "metadata": {},
   "outputs": [
    {
     "data": {
      "text/plain": [
       "(array([1, 3, 5]),)"
      ]
     },
     "execution_count": 228,
     "metadata": {},
     "output_type": "execute_result"
    }
   ],
   "source": [
    "st2idx"
   ]
  },
  {
   "cell_type": "code",
   "execution_count": 188,
   "metadata": {},
   "outputs": [
    {
     "name": "stdout",
     "output_type": "stream",
     "text": [
      "a:\n",
      "[[ 5  9  6]\n",
      " [ 8 15  9]\n",
      " [17 15 14]]\n",
      "b:\n",
      "[[1 7 6]]\n"
     ]
    },
    {
     "data": {
      "text/plain": [
       "array([[ 4,  2,  0],\n",
       "       [ 7,  8,  3],\n",
       "       [16,  8,  8]])"
      ]
     },
     "execution_count": 188,
     "metadata": {},
     "output_type": "execute_result"
    }
   ],
   "source": [
    "a = dist[st2idx]\n",
    "print(f'a:\\n{a}')\n",
    "b = mat[st2idx, idx[:-1]]\n",
    "print(f'b:\\n{b}')\n",
    "dist[st2idx] - mat[st2idx, idx[:-1]]"
   ]
  },
  {
   "cell_type": "code",
   "execution_count": 189,
   "metadata": {},
   "outputs": [
    {
     "data": {
      "text/plain": [
       "array([[0, 1, 5, 1, 6, 8],\n",
       "       [1, 0, 4, 5, 5, 1],\n",
       "       [5, 4, 0, 7, 1, 9],\n",
       "       [1, 5, 7, 0, 8, 1],\n",
       "       [6, 5, 1, 8, 0, 6],\n",
       "       [8, 1, 9, 1, 6, 0]])"
      ]
     },
     "execution_count": 189,
     "metadata": {},
     "output_type": "execute_result"
    }
   ],
   "source": [
    "mat"
   ]
  },
  {
   "cell_type": "code",
   "execution_count": 195,
   "metadata": {},
   "outputs": [
    {
     "data": {
      "text/plain": [
       "array([[0, 2],\n",
       "       [2, 4],\n",
       "       [4, 0]])"
      ]
     },
     "execution_count": 195,
     "metadata": {},
     "output_type": "execute_result"
    }
   ],
   "source": [
    "combinations"
   ]
  },
  {
   "cell_type": "code",
   "execution_count": 214,
   "metadata": {},
   "outputs": [
    {
     "data": {
      "text/plain": [
       "array([[5, 1, 6],\n",
       "       [5, 1, 6],\n",
       "       [5, 1, 6]])"
      ]
     },
     "execution_count": 214,
     "metadata": {},
     "output_type": "execute_result"
    }
   ],
   "source": [
    "np.tile(mat[combinations[:,0], combinations[:,1]], (3, 1))"
   ]
  },
  {
   "cell_type": "code",
   "execution_count": 192,
   "metadata": {},
   "outputs": [
    {
     "data": {
      "text/plain": [
       "array([2, 4, 0])"
      ]
     },
     "execution_count": 192,
     "metadata": {},
     "output_type": "execute_result"
    }
   ],
   "source": [
    "combinations[:,1]"
   ]
  },
  {
   "cell_type": "code",
   "execution_count": 216,
   "metadata": {},
   "outputs": [
    {
     "data": {
      "text/plain": [
       "(3, 2)"
      ]
     },
     "execution_count": 216,
     "metadata": {},
     "output_type": "execute_result"
    }
   ],
   "source": [
    "combinations.shape"
   ]
  },
  {
   "cell_type": "code",
   "execution_count": 230,
   "metadata": {},
   "outputs": [
    {
     "data": {
      "text/plain": [
       "array([[ 5, 11,  6],\n",
       "       [ 5,  9,  6],\n",
       "       [ 5,  1,  6],\n",
       "       [ 8, 15,  9],\n",
       "       [ 7,  1,  6],\n",
       "       [17, 15, 14]])"
      ]
     },
     "execution_count": 230,
     "metadata": {},
     "output_type": "execute_result"
    }
   ],
   "source": [
    "dist = np.sum([mat[:,combinations[:,0]], mat[:,combinations[:,1]]], axis=0)\n",
    "dist"
   ]
  },
  {
   "cell_type": "code",
   "execution_count": null,
   "metadata": {},
   "outputs": [],
   "source": []
  },
  {
   "cell_type": "code",
   "execution_count": null,
   "metadata": {},
   "outputs": [],
   "source": []
  },
  {
   "cell_type": "code",
   "execution_count": null,
   "metadata": {},
   "outputs": [],
   "source": []
  },
  {
   "cell_type": "code",
   "execution_count": 235,
   "metadata": {},
   "outputs": [
    {
     "data": {
      "text/plain": [
       "array([[0, 1, 5, 1, 6, 8],\n",
       "       [1, 0, 4, 5, 5, 1],\n",
       "       [5, 4, 0, 7, 1, 9],\n",
       "       [1, 5, 7, 0, 8, 1],\n",
       "       [6, 5, 1, 8, 0, 6],\n",
       "       [8, 1, 9, 1, 6, 0]])"
      ]
     },
     "execution_count": 235,
     "metadata": {},
     "output_type": "execute_result"
    }
   ],
   "source": [
    "mat"
   ]
  },
  {
   "cell_type": "code",
   "execution_count": 238,
   "metadata": {},
   "outputs": [],
   "source": [
    "st2idx = [0, 1, 3, 5]\n",
    "edges = np.array([[3, 1, 5], [5, 3, 0]])\n",
    "position = 1\n",
    "edges_zipped = zip()"
   ]
  },
  {
   "cell_type": "code",
   "execution_count": 244,
   "metadata": {},
   "outputs": [
    {
     "data": {
      "text/plain": [
       "array([[5, 1],\n",
       "       [1, 8]])"
      ]
     },
     "execution_count": 244,
     "metadata": {},
     "output_type": "execute_result"
    }
   ],
   "source": [
    "np.array([mat[edges[:, 0], edges[:, 1]], mat[edges[:, 0], edges[:, 2]]])"
   ]
  },
  {
   "cell_type": "code",
   "execution_count": null,
   "metadata": {},
   "outputs": [],
   "source": []
  }
 ],
 "metadata": {
  "kernelspec": {
   "display_name": "Python 3",
   "language": "python",
   "name": "python3"
  },
  "language_info": {
   "codemirror_mode": {
    "name": "ipython",
    "version": 3
   },
   "file_extension": ".py",
   "mimetype": "text/x-python",
   "name": "python",
   "nbconvert_exporter": "python",
   "pygments_lexer": "ipython3",
   "version": "3.7.3"
  }
 },
 "nbformat": 4,
 "nbformat_minor": 4
}
